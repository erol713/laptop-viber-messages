{
 "cells": [
  {
   "cell_type": "code",
   "execution_count": 1,
   "metadata": {},
   "outputs": [],
   "source": [
    "import numpy as np\n",
    "import pandas as pd\n",
    "import matplotlib.pyplot as plt\n",
    "import seaborn as sns\n",
    "import string\n",
    "%matplotlib inline\n",
    "import os\n",
    "import datetime \n",
    "from tqdm import tqdm_notebook"
   ]
  },
  {
   "cell_type": "code",
   "execution_count": 2,
   "metadata": {},
   "outputs": [
    {
     "data": {
      "application/vnd.jupyter.widget-view+json": {
       "model_id": "a5460e3f8f81404aa8ed2aaff5c05312",
       "version_major": 2,
       "version_minor": 0
      },
      "text/plain": [
       "HBox(children=(IntProgress(value=0, max=21), HTML(value='')))"
      ]
     },
     "metadata": {},
     "output_type": "display_data"
    },
    {
     "name": "stdout",
     "output_type": "stream",
     "text": [
      "\n"
     ]
    }
   ],
   "source": [
    "b = pd.read_csv('data/Berina.csv')\n",
    "b['Date and time'] = b['Date'] + ' ' +  b['Time of day']\n",
    "b['Date and time'] = pd.to_datetime(b['Date and time'])\n",
    "\n",
    "files = os.listdir(os.chdir('./data'))\n",
    "for i in tqdm_notebook(files):\n",
    "    path = str(i)\n",
    "    curr = pd.read_csv(path, engine='python')\n",
    "    curr['Date and time'] = curr['Date'] + ' ' +  curr['Time of day']\n",
    "    curr['Date and time'] = pd.to_datetime(curr['Date and time'])\n",
    "    \n",
    "    b = b.append(curr, sort=False)"
   ]
  },
  {
   "cell_type": "code",
   "execution_count": 4,
   "metadata": {},
   "outputs": [
    {
     "name": "stdout",
     "output_type": "stream",
     "text": [
      "<class 'pandas.core.frame.DataFrame'>\n",
      "Int64Index: 328226 entries, 0 to 954\n",
      "Data columns (total 5 columns):\n",
      "Date             328226 non-null object\n",
      "Time of day      328226 non-null object\n",
      "Sender           328226 non-null object\n",
      "Content          328226 non-null object\n",
      "Date and time    328226 non-null datetime64[ns]\n",
      "dtypes: datetime64[ns](1), object(4)\n",
      "memory usage: 15.0+ MB\n"
     ]
    }
   ],
   "source": [
    "df = b\n",
    "df.info()"
   ]
  },
  {
   "cell_type": "code",
   "execution_count": 5,
   "metadata": {},
   "outputs": [
    {
     "name": "stdout",
     "output_type": "stream",
     "text": [
      "<class 'pandas.core.frame.DataFrame'>\n",
      "Int64Index: 328226 entries, 0 to 954\n",
      "Data columns (total 3 columns):\n",
      "Sender           328226 non-null object\n",
      "Content          328226 non-null object\n",
      "Date and time    328226 non-null datetime64[ns]\n",
      "dtypes: datetime64[ns](1), object(2)\n",
      "memory usage: 10.0+ MB\n"
     ]
    }
   ],
   "source": [
    "df = df.drop(['Date', 'Time of day'], axis=1)\n",
    "df.info()"
   ]
  },
  {
   "cell_type": "code",
   "execution_count": null,
   "metadata": {},
   "outputs": [],
   "source": [
    "df.describe()"
   ]
  },
  {
   "cell_type": "code",
   "execution_count": 19,
   "metadata": {
    "scrolled": true
   },
   "outputs": [
    {
     "data": {
      "text/plain": [
       "Berina                                  152688\n",
       "Me                                      146065\n",
       "Mob ;Aida;Munevera                       10448\n",
       "Mob ;Aida                                 5520\n",
       "Mob ;Aida;lamija;Munevera;Enes;Edina      2980\n",
       "Munevera                                  2502\n",
       "Pasha                                     2203\n",
       "Eldar Muharemovic                         1291\n",
       "Mob ;Aida;Munevera;Amir Ligata            1215\n",
       "lamija                                     861\n",
       "Mob ;Aida;Amir Ligata                      467\n",
       "Bakir Mob                                  424\n",
       "Vir Triumphalis                            401\n",
       "Vareta                                     354\n",
       "Antonio                                    213\n",
       "Plaki                                      144\n",
       "Amir Ligata                                124\n",
       "M                                          112\n",
       "Nadir Karavdic                              74\n",
       "Enes                                        59\n",
       "Adem Yankee                                 46\n",
       "Ali                                         35\n",
       "Name: Sender, dtype: int64"
      ]
     },
     "execution_count": 19,
     "metadata": {},
     "output_type": "execute_result"
    }
   ],
   "source": [
    "df['Sender'].value_counts()"
   ]
  },
  {
   "cell_type": "code",
   "execution_count": 9,
   "metadata": {},
   "outputs": [
    {
     "data": {
      "text/html": [
       "<div>\n",
       "<style scoped>\n",
       "    .dataframe tbody tr th:only-of-type {\n",
       "        vertical-align: middle;\n",
       "    }\n",
       "\n",
       "    .dataframe tbody tr th {\n",
       "        vertical-align: top;\n",
       "    }\n",
       "\n",
       "    .dataframe thead th {\n",
       "        text-align: right;\n",
       "    }\n",
       "</style>\n",
       "<table border=\"1\" class=\"dataframe\">\n",
       "  <thead>\n",
       "    <tr style=\"text-align: right;\">\n",
       "      <th></th>\n",
       "      <th>Sender</th>\n",
       "      <th>Content</th>\n",
       "      <th>Date and time</th>\n",
       "      <th>Label</th>\n",
       "    </tr>\n",
       "  </thead>\n",
       "  <tbody>\n",
       "    <tr>\n",
       "      <th>0</th>\n",
       "      <td>Me</td>\n",
       "      <td>Sve ok?</td>\n",
       "      <td>2018-03-30 16:13:33</td>\n",
       "      <td>none</td>\n",
       "    </tr>\n",
       "    <tr>\n",
       "      <th>1</th>\n",
       "      <td>Berina</td>\n",
       "      <td>Jestee</td>\n",
       "      <td>2018-03-30 16:13:46</td>\n",
       "      <td>none</td>\n",
       "    </tr>\n",
       "    <tr>\n",
       "      <th>2</th>\n",
       "      <td>Berina</td>\n",
       "      <td>Dosadno mi</td>\n",
       "      <td>2018-03-30 16:13:50</td>\n",
       "      <td>none</td>\n",
       "    </tr>\n",
       "    <tr>\n",
       "      <th>3</th>\n",
       "      <td>Me</td>\n",
       "      <td>Jos nisu dosli</td>\n",
       "      <td>2018-03-30 16:14:09</td>\n",
       "      <td>none</td>\n",
       "    </tr>\n",
       "    <tr>\n",
       "      <th>4</th>\n",
       "      <td>Berina</td>\n",
       "      <td>Izasla sam ispred</td>\n",
       "      <td>2018-03-30 16:14:13</td>\n",
       "      <td>none</td>\n",
       "    </tr>\n",
       "  </tbody>\n",
       "</table>\n",
       "</div>"
      ],
      "text/plain": [
       "   Sender            Content       Date and time Label\n",
       "0      Me            Sve ok? 2018-03-30 16:13:33  none\n",
       "1  Berina             Jestee 2018-03-30 16:13:46  none\n",
       "2  Berina         Dosadno mi 2018-03-30 16:13:50  none\n",
       "3      Me     Jos nisu dosli 2018-03-30 16:14:09  none\n",
       "4  Berina  Izasla sam ispred 2018-03-30 16:14:13  none"
      ]
     },
     "execution_count": 9,
     "metadata": {},
     "output_type": "execute_result"
    }
   ],
   "source": [
    "df['Label'] = 'none'\n",
    "df.head()"
   ]
  },
  {
   "cell_type": "code",
   "execution_count": 34,
   "metadata": {},
   "outputs": [],
   "source": [
    "conditions = [\n",
    "    (df['Sender'] == 'Me'),\n",
    "    (df['Sender'] == 'Berina'),\n",
    "    (df['Sender'] == 'Mob ;Aida;lamija;Munevera;Enes;Edina') |  ('Mob ;Aida' == df['Sender']) | ('Mob ;Aida;Munevera' == df['Sender']) | ('Munevera' == df['Sender']) | ('Mob ;Aida;Munevera;Amir Ligata' == df['Sender']) | ('Mob ;Aida;Amir Ligata' == df['Sender'] )| ('lamija' == df['Sender']) | ('Enes' == df['Sender'])\n",
    "    ]\n",
    "choices = ['Me', 'Gf', 'Family']\n",
    "df['Label'] = np.select(conditions, choices, default='Friends')\n",
    "\n",
    "    "
   ]
  },
  {
   "cell_type": "code",
   "execution_count": 37,
   "metadata": {},
   "outputs": [
    {
     "data": {
      "text/plain": [
       "Gf         152688\n",
       "Me         146065\n",
       "Family      24052\n",
       "Friends      5421\n",
       "Name: Label, dtype: int64"
      ]
     },
     "execution_count": 37,
     "metadata": {},
     "output_type": "execute_result"
    }
   ],
   "source": [
    "df.Label.value_counts()"
   ]
  },
  {
   "cell_type": "code",
   "execution_count": 40,
   "metadata": {},
   "outputs": [
    {
     "data": {
      "text/html": [
       "<div>\n",
       "<style scoped>\n",
       "    .dataframe tbody tr th:only-of-type {\n",
       "        vertical-align: middle;\n",
       "    }\n",
       "\n",
       "    .dataframe tbody tr th {\n",
       "        vertical-align: top;\n",
       "    }\n",
       "\n",
       "    .dataframe thead th {\n",
       "        text-align: right;\n",
       "    }\n",
       "</style>\n",
       "<table border=\"1\" class=\"dataframe\">\n",
       "  <thead>\n",
       "    <tr style=\"text-align: right;\">\n",
       "      <th></th>\n",
       "      <th>Sender</th>\n",
       "      <th>Content</th>\n",
       "      <th>Date and time</th>\n",
       "      <th>Label</th>\n",
       "    </tr>\n",
       "  </thead>\n",
       "  <tbody>\n",
       "    <tr>\n",
       "      <th>0</th>\n",
       "      <td>Me</td>\n",
       "      <td>Sve ok?</td>\n",
       "      <td>2018-03-30 16:13:33</td>\n",
       "      <td>Me</td>\n",
       "    </tr>\n",
       "    <tr>\n",
       "      <th>1</th>\n",
       "      <td>Berina</td>\n",
       "      <td>Jestee</td>\n",
       "      <td>2018-03-30 16:13:46</td>\n",
       "      <td>Gf</td>\n",
       "    </tr>\n",
       "    <tr>\n",
       "      <th>2</th>\n",
       "      <td>Berina</td>\n",
       "      <td>Dosadno mi</td>\n",
       "      <td>2018-03-30 16:13:50</td>\n",
       "      <td>Gf</td>\n",
       "    </tr>\n",
       "    <tr>\n",
       "      <th>3</th>\n",
       "      <td>Me</td>\n",
       "      <td>Jos nisu dosli</td>\n",
       "      <td>2018-03-30 16:14:09</td>\n",
       "      <td>Me</td>\n",
       "    </tr>\n",
       "    <tr>\n",
       "      <th>4</th>\n",
       "      <td>Berina</td>\n",
       "      <td>Izasla sam ispred</td>\n",
       "      <td>2018-03-30 16:14:13</td>\n",
       "      <td>Gf</td>\n",
       "    </tr>\n",
       "  </tbody>\n",
       "</table>\n",
       "</div>"
      ],
      "text/plain": [
       "   Sender            Content       Date and time Label\n",
       "0      Me            Sve ok? 2018-03-30 16:13:33    Me\n",
       "1  Berina             Jestee 2018-03-30 16:13:46    Gf\n",
       "2  Berina         Dosadno mi 2018-03-30 16:13:50    Gf\n",
       "3      Me     Jos nisu dosli 2018-03-30 16:14:09    Me\n",
       "4  Berina  Izasla sam ispred 2018-03-30 16:14:13    Gf"
      ]
     },
     "execution_count": 40,
     "metadata": {},
     "output_type": "execute_result"
    }
   ],
   "source": [
    "df.head()"
   ]
  },
  {
   "cell_type": "code",
   "execution_count": 42,
   "metadata": {},
   "outputs": [],
   "source": [
    "#df2 = df.sort_values('Date and time') sortiranje po datumima, ali onda se izgubi kome si slao poruke"
   ]
  },
  {
   "cell_type": "code",
   "execution_count": 44,
   "metadata": {},
   "outputs": [],
   "source": [
    "df.to_csv(\"finalData.csv\", encoding='utf-8', index=False)"
   ]
  },
  {
   "cell_type": "code",
   "execution_count": null,
   "metadata": {},
   "outputs": [],
   "source": [
    "plt.figure(figsize=(16, 6))\n",
    "ax = sns.countplot( b['Date and time'].dt.month, hue = b['Sender'])\n",
    "ax.set_xlabel(\"Monthly\")"
   ]
  },
  {
   "cell_type": "code",
   "execution_count": null,
   "metadata": {},
   "outputs": [],
   "source": []
  },
  {
   "cell_type": "code",
   "execution_count": null,
   "metadata": {},
   "outputs": [],
   "source": [
    "plt.figure(figsize=(16, 6))\n",
    "ax = sns.countplot( b['Date and time'].dt.day, hue = b['Sender'])\n",
    "ax.set_xlabel(\"Daily\")"
   ]
  },
  {
   "cell_type": "code",
   "execution_count": null,
   "metadata": {},
   "outputs": [],
   "source": []
  },
  {
   "cell_type": "code",
   "execution_count": null,
   "metadata": {},
   "outputs": [],
   "source": []
  },
  {
   "cell_type": "code",
   "execution_count": null,
   "metadata": {},
   "outputs": [],
   "source": [
    "plt.figure(figsize=(16, 6))\n",
    "ax = sns.countplot( b['Date and time'].dt.hour, hue = b['Sender'])\n",
    "ax.set_xlabel(\"Hourly\")"
   ]
  },
  {
   "cell_type": "code",
   "execution_count": null,
   "metadata": {},
   "outputs": [],
   "source": [
    "friends = pd.DataFrame(columns=['Name', 'length', 'sent', 'received', 'top date', 'top month', 'top day', 'top hour', 'top msgs', 'avg len'])"
   ]
  },
  {
   "cell_type": "code",
   "execution_count": null,
   "metadata": {},
   "outputs": [],
   "source": [
    "b = pd.read_csv('data/Berina.csv')\n",
    "b['Date and time'] = b['Date'] + ' ' +  b['Time of day']\n",
    "b['Date and time'] = pd.to_datetime(b['Date and time'])\n",
    "b= b.drop(['Date', 'Time of day'], axis=1) "
   ]
  },
  {
   "cell_type": "code",
   "execution_count": null,
   "metadata": {},
   "outputs": [],
   "source": [
    "len(b)"
   ]
  },
  {
   "cell_type": "code",
   "execution_count": null,
   "metadata": {},
   "outputs": [],
   "source": [
    "len(bakir)"
   ]
  },
  {
   "cell_type": "code",
   "execution_count": null,
   "metadata": {},
   "outputs": [],
   "source": [
    "result = bakir.append(b, sort=False)"
   ]
  },
  {
   "cell_type": "code",
   "execution_count": null,
   "metadata": {},
   "outputs": [],
   "source": [
    "result = result.sort_values(by='Date and time')"
   ]
  },
  {
   "cell_type": "code",
   "execution_count": null,
   "metadata": {},
   "outputs": [],
   "source": [
    "plt.figure(figsize=(16, 6))\n",
    "ax = sns.countplot( result['Date and time'].dt.hour, hue = result['Sender'])\n",
    "ax.set_xlabel(\"monthly\")"
   ]
  },
  {
   "cell_type": "code",
   "execution_count": null,
   "metadata": {},
   "outputs": [],
   "source": [
    "files = os.listdir(os.chdir('./data'))\n"
   ]
  },
  {
   "cell_type": "code",
   "execution_count": null,
   "metadata": {},
   "outputs": [],
   "source": [
    "for i in files:\n",
    "    path = \"data/\" + i\n",
    "    name  = str(i)[:-4]\n",
    "    name = pd.read_csv(path)\n",
    "    name['Date and time'] = name['Date'] + ' ' +  name['Time of day']\n",
    "    name['Date and time'] = pd.to_datetime(name['Date and time'])\n",
    "    name= df.drop(['Date', 'Time of day'], axis=1) "
   ]
  },
  {
   "cell_type": "code",
   "execution_count": null,
   "metadata": {},
   "outputs": [],
   "source": [
    "Plaki"
   ]
  },
  {
   "cell_type": "code",
   "execution_count": null,
   "metadata": {},
   "outputs": [],
   "source": []
  }
 ],
 "metadata": {
  "kernelspec": {
   "display_name": "Python 3",
   "language": "python",
   "name": "python3"
  },
  "language_info": {
   "codemirror_mode": {
    "name": "ipython",
    "version": 3
   },
   "file_extension": ".py",
   "mimetype": "text/x-python",
   "name": "python",
   "nbconvert_exporter": "python",
   "pygments_lexer": "ipython3",
   "version": "3.6.5"
  }
 },
 "nbformat": 4,
 "nbformat_minor": 2
}
